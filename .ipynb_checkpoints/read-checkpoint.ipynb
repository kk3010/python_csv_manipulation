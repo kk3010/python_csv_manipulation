{
 "cells": [
  {
   "cell_type": "code",
   "execution_count": 8,
   "id": "ce8d6c6e-d8de-4137-902a-7cbef4f992de",
   "metadata": {},
   "outputs": [],
   "source": [
    "import csv"
   ]
  },
  {
   "cell_type": "code",
   "execution_count": 10,
   "id": "8e2cfec4-3616-4ceb-8fdb-75ea962fbdc6",
   "metadata": {
    "tags": []
   },
   "outputs": [
    {
     "name": "stdout",
     "output_type": "stream",
     "text": [
      "{'Index': ' 1', ' \"Year\"': ' 1928', ' \"Age\"': ' 22', ' \"Name\"': ' \"Janet Gaynor\"', ' \"Movie\"': ' \"Seventh Heaven', None: [' Street Angel and Sunrise: A Song of Two Humans\"']}\n",
      "{'Index': ' 2', ' \"Year\"': ' 1929', ' \"Age\"': ' 37', ' \"Name\"': ' \"Mary Pickford\"', ' \"Movie\"': ' \"Coquette\"'}\n",
      "{'Index': ' 3', ' \"Year\"': ' 1930', ' \"Age\"': ' 28', ' \"Name\"': ' \"Norma Shearer\"', ' \"Movie\"': ' \"The Divorcee\"\\t'}\n",
      "{'Index': ' 4', ' \"Year\"': ' 1931', ' \"Age\"': ' 63', ' \"Name\"': ' \"Marie Dressler\"', ' \"Movie\"': ' \"Min and Bill\"'}\n",
      "{'Index': ' 5', ' \"Year\"': ' 1932', ' \"Age\"': ' 32', ' \"Name\"': ' \"Helen Hayes\"', ' \"Movie\"': ' \"The Sin of Madelon Claudet\"\\t'}\n",
      "{'Index': ' 6', ' \"Year\"': ' 1933', ' \"Age\"': ' 26', ' \"Name\"': ' \"Katharine Hepburn\"', ' \"Movie\"': ' \"Morning Glory\"'}\n",
      "{'Index': ' 7', ' \"Year\"': ' 1934', ' \"Age\"': ' 31', ' \"Name\"': ' \"Claudette Colbert\"', ' \"Movie\"': ' \"It Happened One Night\"'}\n",
      "{'Index': ' 8', ' \"Year\"': ' 1935', ' \"Age\"': ' 27', ' \"Name\"': ' \"Bette Davis\"', ' \"Movie\"': ' \"Dangerous\"'}\n",
      "{'Index': ' 9', ' \"Year\"': ' 1936', ' \"Age\"': ' 27', ' \"Name\"': ' \"Luise Rainer\"', ' \"Movie\"': ' \"The Great Ziegfeld\"'}\n",
      "{'Index': '10', ' \"Year\"': ' 1937', ' \"Age\"': ' 28', ' \"Name\"': ' \"Luise Rainer\"', ' \"Movie\"': ' \"The Good Earth\"'}\n",
      "{'Index': '11', ' \"Year\"': ' 1938', ' \"Age\"': ' 30', ' \"Name\"': ' \"Bette Davis\"', ' \"Movie\"': ' \"Jezebel\"'}\n",
      "{'Index': '12', ' \"Year\"': ' 1939', ' \"Age\"': ' 26', ' \"Name\"': ' \"Vivien Leigh\"', ' \"Movie\"': ' \"Gone with the Wind\"'}\n",
      "{'Index': '13', ' \"Year\"': ' 1940', ' \"Age\"': ' 29', ' \"Name\"': ' \"Ginger Rogers\"', ' \"Movie\"': ' \"Kitty Foyle\"'}\n",
      "{'Index': '14', ' \"Year\"': ' 1941', ' \"Age\"': ' 24', ' \"Name\"': ' \"Joan Fontaine\"', ' \"Movie\"': ' \"Suspicion\"\\t'}\n",
      "{'Index': '15', ' \"Year\"': ' 1942', ' \"Age\"': ' 38', ' \"Name\"': ' \"Greer Garson\"', ' \"Movie\"': ' \"Mrs. Miniver\"'}\n",
      "{'Index': '16', ' \"Year\"': ' 1943', ' \"Age\"': ' 25', ' \"Name\"': ' \"Jennifer Jones\"', ' \"Movie\"': ' \"The Song of Bernadette\"'}\n",
      "{'Index': '17', ' \"Year\"': ' 1944', ' \"Age\"': ' 29', ' \"Name\"': ' \"Ingrid Bergman\"', ' \"Movie\"': ' \"Gaslight\"'}\n",
      "{'Index': '18', ' \"Year\"': ' 1945', ' \"Age\"': ' 40', ' \"Name\"': ' \"Joan Crawford\"', ' \"Movie\"': ' \"Mildred Pierce\"'}\n",
      "{'Index': '19', ' \"Year\"': ' 1946', ' \"Age\"': ' 30', ' \"Name\"': ' \"Olivia de Havilland\"', ' \"Movie\"': ' \"To Each His Own\"'}\n",
      "{'Index': '20', ' \"Year\"': ' 1947', ' \"Age\"': ' 35', ' \"Name\"': ' \"Loretta Young\"', ' \"Movie\"': ' \"The Farmer\\'s Daughter\"'}\n",
      "{'Index': '21', ' \"Year\"': ' 1948', ' \"Age\"': ' 32', ' \"Name\"': ' \"Jane Wyman\"', ' \"Movie\"': ' \"Johnny Belinda\"'}\n",
      "{'Index': '22', ' \"Year\"': ' 1949', ' \"Age\"': ' 33', ' \"Name\"': ' \"Olivia de Havilland\"', ' \"Movie\"': ' \"The Heiress\"'}\n",
      "{'Index': '23', ' \"Year\"': ' 1950', ' \"Age\"': ' 29', ' \"Name\"': ' \"Judy Holliday\"', ' \"Movie\"': ' \"Born Yesterday\"'}\n",
      "{'Index': '24', ' \"Year\"': ' 1951', ' \"Age\"': ' 38', ' \"Name\"': ' \"Vivien Leigh\"', ' \"Movie\"': ' \"A Streetcar Named Desire\"'}\n",
      "{'Index': '25', ' \"Year\"': ' 1952', ' \"Age\"': ' 54', ' \"Name\"': ' \"Shirley Booth\"', ' \"Movie\"': ' \"Come Back', None: [' Little Sheba\"']}\n",
      "{'Index': '26', ' \"Year\"': ' 1953', ' \"Age\"': ' 24', ' \"Name\"': ' \"Audrey Hepburn\"', ' \"Movie\"': ' \"Roman Holiday\"'}\n",
      "{'Index': '27', ' \"Year\"': ' 1954', ' \"Age\"': ' 25', ' \"Name\"': ' \"Grace Kelly\"', ' \"Movie\"': ' \"The Country Girl\"'}\n",
      "{'Index': '28', ' \"Year\"': ' 1955', ' \"Age\"': ' 48', ' \"Name\"': ' \"Anna Magnani\"', ' \"Movie\"': ' \"The Rose Tattoo\"'}\n",
      "{'Index': '29', ' \"Year\"': ' 1956', ' \"Age\"': ' 41', ' \"Name\"': ' \"Ingrid Bergman\"', ' \"Movie\"': ' \"Anastasia\"'}\n",
      "{'Index': '30', ' \"Year\"': ' 1957', ' \"Age\"': ' 28', ' \"Name\"': ' \"Joanne Woodward\"', ' \"Movie\"': ' \"The Three Faces of Eve\"'}\n",
      "{'Index': '31', ' \"Year\"': ' 1958', ' \"Age\"': ' 41', ' \"Name\"': ' \"Susan Hayward\"', ' \"Movie\"': ' \"I Want to Live!\"'}\n",
      "{'Index': '32', ' \"Year\"': ' 1959', ' \"Age\"': ' 39', ' \"Name\"': ' \"Simone Signoret\"', ' \"Movie\"': ' \"Room at the Top\"'}\n",
      "{'Index': '33', ' \"Year\"': ' 1960', ' \"Age\"': ' 29', ' \"Name\"': ' \"Elizabeth Taylor\"', ' \"Movie\"': ' \"BUtterfield 8\"'}\n",
      "{'Index': '34', ' \"Year\"': ' 1961', ' \"Age\"': ' 27', ' \"Name\"': ' \"Sophia Loren\"', ' \"Movie\"': ' \"Two Women\"'}\n",
      "{'Index': '35', ' \"Year\"': ' 1962', ' \"Age\"': ' 31', ' \"Name\"': ' \"Anne Bancroft\"', ' \"Movie\"': ' \"The Miracle Worker\"'}\n",
      "{'Index': '36', ' \"Year\"': ' 1963', ' \"Age\"': ' 31', ' \"Name\"': ' \"Patricia Neal\"', ' \"Movie\"': ' \"Hud\"'}\n",
      "{'Index': '37', ' \"Year\"': ' 1964', ' \"Age\"': ' 29', ' \"Name\"': ' \"Julie Andrews\"', ' \"Movie\"': ' \"Mary Poppins\"'}\n",
      "{'Index': '38', ' \"Year\"': ' 1965', ' \"Age\"': ' 25', ' \"Name\"': ' \"Julie Christie\"', ' \"Movie\"': ' \"Darling\"'}\n",
      "{'Index': '39', ' \"Year\"': ' 1966', ' \"Age\"': ' 35', ' \"Name\"': ' \"Elizabeth Taylor\"', ' \"Movie\"': ' \"Who\\'s Afraid of Virginia Woolf?\"'}\n",
      "{'Index': '40', ' \"Year\"': ' 1967', ' \"Age\"': ' 60', ' \"Name\"': ' \"Katharine Hepburn\"', ' \"Movie\"': ' \"Guess Who\\'s Coming to Dinner\"'}\n",
      "{'Index': '41', ' \"Year\"': ' 1968', ' \"Age\"': ' 61', ' \"Name\"': ' \"Katharine Hepburn\"', ' \"Movie\"': ' \"The Lion in Winter\"'}\n",
      "{'Index': '42', ' \"Year\"': ' 1969', ' \"Age\"': ' 26', ' \"Name\"': ' \"Barbra Streisand\"', ' \"Movie\"': ' \"Funny Girl\"'}\n",
      "{'Index': '43', ' \"Year\"': ' 1970', ' \"Age\"': ' 35', ' \"Name\"': ' \"Maggie Smith\"', ' \"Movie\"': ' \"The Prime of Miss Jean Brodie\"'}\n",
      "{'Index': '44', ' \"Year\"': ' 1971', ' \"Age\"': ' 34', ' \"Name\"': ' \"Glenda Jackson\"', ' \"Movie\"': ' \"Women in Love\"'}\n",
      "{'Index': '45', ' \"Year\"': ' 1972', ' \"Age\"': ' 34', ' \"Name\"': ' \"Jane Fonda\"', ' \"Movie\"': ' \"Klute\"'}\n",
      "{'Index': '46', ' \"Year\"': ' 1973', ' \"Age\"': ' 27', ' \"Name\"': ' \"Liza Minnelli\"', ' \"Movie\"': ' \"Cabaret\"'}\n",
      "{'Index': '47', ' \"Year\"': ' 1974', ' \"Age\"': ' 37', ' \"Name\"': ' \"Glenda Jackson\"', ' \"Movie\"': ' \"A Touch of Class\"'}\n",
      "{'Index': '48', ' \"Year\"': ' 1975', ' \"Age\"': ' 42', ' \"Name\"': ' \"Ellen Burstyn\"', ' \"Movie\"': ' \"Alice Doesn\\'t Live Here Anymore\"\\t'}\n",
      "{'Index': '49', ' \"Year\"': ' 1976', ' \"Age\"': ' 41', ' \"Name\"': ' \"Louise Fletcher\"', ' \"Movie\"': ' \"One Flew Over the Cuckoo\\'s Nest\"'}\n",
      "{'Index': '50', ' \"Year\"': ' 1977', ' \"Age\"': ' 36', ' \"Name\"': ' \"Faye Dunaway\"', ' \"Movie\"': ' \"Network\"'}\n",
      "{'Index': '51', ' \"Year\"': ' 1978', ' \"Age\"': ' 32', ' \"Name\"': ' \"Diane Keaton\"', ' \"Movie\"': ' \"Annie Hall\"'}\n",
      "{'Index': '52', ' \"Year\"': ' 1979', ' \"Age\"': ' 41', ' \"Name\"': ' \"Jane Fonda\"', ' \"Movie\"': ' \"Coming Home\"'}\n",
      "{'Index': '53', ' \"Year\"': ' 1980', ' \"Age\"': ' 33', ' \"Name\"': ' \"Sally Field\"', ' \"Movie\"': ' \"Norma Rae\"'}\n",
      "{'Index': '54', ' \"Year\"': ' 1981', ' \"Age\"': ' 31', ' \"Name\"': ' \"Sissy Spacek\"', ' \"Movie\"': ' \"Coal Miner\\'s Daughter\"\\t'}\n",
      "{'Index': '55', ' \"Year\"': ' 1982', ' \"Age\"': ' 74', ' \"Name\"': ' \"Katharine Hepburn\"', ' \"Movie\"': ' \"On Golden Pond\"'}\n",
      "{'Index': '56', ' \"Year\"': ' 1983', ' \"Age\"': ' 33', ' \"Name\"': ' \"Meryl Streep\"', ' \"Movie\"': ' \"Sophie\\'s Choice\"'}\n",
      "{'Index': '57', ' \"Year\"': ' 1984', ' \"Age\"': ' 49', ' \"Name\"': ' \"Shirley MacLaine\"', ' \"Movie\"': ' \"Terms of Endearment\"\\t'}\n",
      "{'Index': '58', ' \"Year\"': ' 1985', ' \"Age\"': ' 38', ' \"Name\"': ' \"Sally Field\"', ' \"Movie\"': ' \"Places in the Heart\"'}\n",
      "{'Index': '59', ' \"Year\"': ' 1986', ' \"Age\"': ' 61', ' \"Name\"': ' \"Geraldine Page\"', ' \"Movie\"': ' \"The Trip to Bountiful\"\\t'}\n",
      "{'Index': '60', ' \"Year\"': ' 1987', ' \"Age\"': ' 21', ' \"Name\"': ' \"Marlee Matlin\"', ' \"Movie\"': ' \"Children of a Lesser God\"'}\n",
      "{'Index': '61', ' \"Year\"': ' 1988', ' \"Age\"': ' 41', ' \"Name\"': ' \"Cher\"', ' \"Movie\"': ' \"Moonstruck\"'}\n",
      "{'Index': '62', ' \"Year\"': ' 1989', ' \"Age\"': ' 26', ' \"Name\"': ' \"Jodie Foster\"', ' \"Movie\"': ' \"The Accused\"'}\n",
      "{'Index': '63', ' \"Year\"': ' 1990', ' \"Age\"': ' 80', ' \"Name\"': ' \"Jessica Tandy\"', ' \"Movie\"': ' \"Driving Miss Daisy\"'}\n",
      "{'Index': '64', ' \"Year\"': ' 1991', ' \"Age\"': ' 42', ' \"Name\"': ' \"Kathy Bates\"', ' \"Movie\"': ' \"Misery\"'}\n",
      "{'Index': '65', ' \"Year\"': ' 1992', ' \"Age\"': ' 29', ' \"Name\"': ' \"Jodie Foster\"', ' \"Movie\"': ' \"The Silence of the Lambs\"'}\n",
      "{'Index': '66', ' \"Year\"': ' 1993', ' \"Age\"': ' 33', ' \"Name\"': ' \"Emma Thompson\"', ' \"Movie\"': ' \"Howards End\"'}\n",
      "{'Index': '67', ' \"Year\"': ' 1994', ' \"Age\"': ' 36', ' \"Name\"': ' \"Holly Hunter\"', ' \"Movie\"': ' \"The Piano\"'}\n",
      "{'Index': '68', ' \"Year\"': ' 1995', ' \"Age\"': ' 45', ' \"Name\"': ' \"Jessica Lange\"', ' \"Movie\"': ' \"Blue Sky\"'}\n",
      "{'Index': '69', ' \"Year\"': ' 1996', ' \"Age\"': ' 49', ' \"Name\"': ' \"Susan Sarandon\"', ' \"Movie\"': ' \"Dead Man Walking\"'}\n",
      "{'Index': '70', ' \"Year\"': ' 1997', ' \"Age\"': ' 39', ' \"Name\"': ' \"Frances McDormand\"', ' \"Movie\"': ' \"Fargo\"'}\n",
      "{'Index': '71', ' \"Year\"': ' 1998', ' \"Age\"': ' 34', ' \"Name\"': ' \"Helen Hunt\"', ' \"Movie\"': ' \"As Good as It Gets\"'}\n",
      "{'Index': '72', ' \"Year\"': ' 1999', ' \"Age\"': ' 26', ' \"Name\"': ' \"Gwyneth Paltrow\"', ' \"Movie\"': ' \"Shakespeare in Love\"'}\n",
      "{'Index': '73', ' \"Year\"': ' 2000', ' \"Age\"': ' 25', ' \"Name\"': ' \"Hilary Swank\"', ' \"Movie\"': ' \"Boys Don\\'t Cry\"'}\n",
      "{'Index': '74', ' \"Year\"': ' 2001', ' \"Age\"': ' 33', ' \"Name\"': ' \"Julia Roberts\"', ' \"Movie\"': ' \"Erin Brockovich\"'}\n",
      "{'Index': '75', ' \"Year\"': ' 2002', ' \"Age\"': ' 35', ' \"Name\"': ' \"Halle Berry\"', ' \"Movie\"': ' \"Monster\\'s Ball\"'}\n",
      "{'Index': '76', ' \"Year\"': ' 2003', ' \"Age\"': ' 35', ' \"Name\"': ' \"Nicole Kidman\"', ' \"Movie\"': ' \"The Hours\"'}\n",
      "{'Index': '77', ' \"Year\"': ' 2004', ' \"Age\"': ' 28', ' \"Name\"': ' \"Charlize Theron\"', ' \"Movie\"': ' \"Monster\"'}\n",
      "{'Index': '78', ' \"Year\"': ' 2005', ' \"Age\"': ' 30', ' \"Name\"': ' \"Hilary Swank\"', ' \"Movie\"': ' \"Million Dollar Baby\"'}\n",
      "{'Index': '79', ' \"Year\"': ' 2006', ' \"Age\"': ' 29', ' \"Name\"': ' \"Reese Witherspoon\"', ' \"Movie\"': ' \"Walk the Line\"'}\n",
      "{'Index': '80', ' \"Year\"': ' 2007', ' \"Age\"': ' 61', ' \"Name\"': ' \"Helen Mirren\"', ' \"Movie\"': ' \"The Queen\"'}\n",
      "{'Index': '81', ' \"Year\"': ' 2008', ' \"Age\"': ' 32', ' \"Name\"': ' \"Marion Cotillard\"', ' \"Movie\"': ' \"La Vie en rose\"'}\n",
      "{'Index': '82', ' \"Year\"': ' 2009', ' \"Age\"': ' 33', ' \"Name\"': ' \"Kate Winslet\"', ' \"Movie\"': ' \"The Reader\"'}\n",
      "{'Index': '83', ' \"Year\"': ' 2010', ' \"Age\"': ' 45', ' \"Name\"': ' \"Sandra Bullock\"', ' \"Movie\"': ' \"The Blind Side\"'}\n",
      "{'Index': '84', ' \"Year\"': ' 2011', ' \"Age\"': ' 29', ' \"Name\"': ' \"Natalie Portman\"', ' \"Movie\"': ' \"Black Swan\"'}\n",
      "{'Index': '85', ' \"Year\"': ' 2012', ' \"Age\"': ' 62', ' \"Name\"': ' \"Meryl Streep\"', ' \"Movie\"': ' \"The Iron Lady\"'}\n",
      "{'Index': '86', ' \"Year\"': ' 2013', ' \"Age\"': ' 22', ' \"Name\"': ' \"Jennifer Lawrence\"', ' \"Movie\"': ' \"Silver Linings Playbook\"'}\n",
      "{'Index': '87', ' \"Year\"': ' 2014', ' \"Age\"': ' 44', ' \"Name\"': ' \"Cate Blanchett\"', ' \"Movie\"': ' \"Blue Jasmine\"'}\n",
      "{'Index': '88', ' \"Year\"': ' 2015', ' \"Age\"': ' 54', ' \"Name\"': ' \"Julianne Moore\"', ' \"Movie\"': ' \"Still Alice\"'}\n",
      "{'Index': '89', ' \"Year\"': ' 2016', ' \"Age\"': ' 26', ' \"Name\"': ' \"Brie Larson\"', ' \"Movie\"': ' \"Room\"'}\n"
     ]
    }
   ],
   "source": [
    "with open(\"input/oscar_age_female.csv\") as input_file:\n",
    "    #records = csv.reader(input_file, delimiter=',')\n",
    "    records = csv.DictReader(input_file)\n",
    "    for record in records:\n",
    "        print(record)"
   ]
  },
  {
   "cell_type": "code",
   "execution_count": null,
   "id": "9f6068c6-2470-45fb-b5ab-445a6bf54c69",
   "metadata": {},
   "outputs": [],
   "source": []
  },
  {
   "cell_type": "code",
   "execution_count": null,
   "id": "740233e3-da77-42f8-ad8d-9b4a4645dc33",
   "metadata": {},
   "outputs": [],
   "source": []
  }
 ],
 "metadata": {
  "kernelspec": {
   "display_name": "Python 3 (ipykernel)",
   "language": "python",
   "name": "python3"
  },
  "language_info": {
   "codemirror_mode": {
    "name": "ipython",
    "version": 3
   },
   "file_extension": ".py",
   "mimetype": "text/x-python",
   "name": "python",
   "nbconvert_exporter": "python",
   "pygments_lexer": "ipython3",
   "version": "3.9.7"
  }
 },
 "nbformat": 4,
 "nbformat_minor": 5
}
